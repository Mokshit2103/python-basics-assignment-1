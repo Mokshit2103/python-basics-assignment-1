{
  "nbformat": 4,
  "nbformat_minor": 0,
  "metadata": {
    "colab": {
      "provenance": []
    },
    "kernelspec": {
      "name": "python3",
      "display_name": "Python 3"
    },
    "language_info": {
      "name": "python"
    }
  },
  "cells": [
    {
      "cell_type": "code",
      "execution_count": null,
      "metadata": {
        "id": "MFZCJXwe09kZ"
      },
      "outputs": [],
      "source": []
    },
    {
      "cell_type": "markdown",
      "source": [
        "1. Python is a high-level, easy-to-learn programming language known for its clear syntax and versatility. It's popular because it's beginner-friendly, has a huge ecosystem of libraries, supports many applications (like web development, data science, and automation), and is backed by a strong community.\n",
        "\n",
        "2.An interpreter in Python is a program that reads and executes Python code line by line, translating it into machine code at runtime.\n",
        "\n",
        "3.Pre-defined keywords in Python are reserved words that have special meaning and cannot be used as variable names. Examples: if, else, while, for, def, class.\n",
        "\n",
        "4.No, keywords cannot be used as variable names because they are reserved for specific language functions.\n",
        "\n",
        "5.Mutability in Python refers to whether an object’s value can be changed after it's created. Mutable objects (like lists, dictionaries) can be changed; immutable ones (like strings, tuples) cannot.\n",
        "\n",
        "6.Lists are mutable because they are designed to allow modifications (like adding or removing elements), while tuples are immutable to provide a stable, unchangeable structure, ensuring data integrity and allowing them to be used as keys in dictionaries.\n",
        "\n",
        "7.== checks if the values of two objects are equal.\n",
        "\n",
        "is checks if two objects refer to the same memory location (i.e., whether they are the same object).\n",
        "\n",
        "8.The logical operators in Python are:\n",
        "\n",
        "and: Returns True if both conditions are true.\n",
        "\n",
        "or: Returns True if at least one condition is true.\n",
        "\n",
        "not: Returns the opposite of the condition (inverts it).\n",
        "\n",
        "9.Type casting in Python is the process of converting one data type to another. This can be done explicitly using functions like:\n",
        "\n",
        "int(): Converts to an integer.\n",
        "\n",
        "float(): Converts to a floating-point number.\n",
        "\n",
        "str(): Converts to a string.\n",
        "\n",
        "10.Implicit type casting (automatic conversion): Python automatically converts one data type to another when needed, without any user intervention.\n",
        "\n",
        "Explicit type casting (manual conversion): The programmer explicitly converts one data type to another using functions like int(), float(), or str().\n",
        "\n",
        "11.Conditional statements in Python (if, elif, else) are used to execute different blocks of code based on certain conditions. They allow the program to make decisions and control the flow of execution.\n",
        "\n",
        "12.The elif (short for \"else if\") statement in Python allows you to check multiple conditions sequentially. If the condition in the if statement is false, it checks the condition in the elif statement. If the elif condition is true, the corresponding block of code is executed.\n",
        "\n",
        "13.for loop: Iterates over a sequence (like a list, tuple, or range) for a specific number of times.\n",
        "\n",
        "while loop: Repeats as long as a given condition is true.\n",
        "\n",
        "14.A while loop is more suitable when the number of iterations is unknown and depends on a condition that may change during execution.\n",
        "\n",
        "\n",
        "PRACTICAL QUESTIONS\n",
        "\n",
        "1.\n"
      ],
      "metadata": {
        "id": "HuLRpEq-1Qw8"
      }
    },
    {
      "cell_type": "code",
      "source": [
        "print(\"Hello, World!\")\n"
      ],
      "metadata": {
        "colab": {
          "base_uri": "https://localhost:8080/"
        },
        "id": "Dy6kULoS4P-s",
        "outputId": "141714cc-05a6-430b-d358-ad4fa30d5c03"
      },
      "execution_count": 1,
      "outputs": [
        {
          "output_type": "stream",
          "name": "stdout",
          "text": [
            "Hello, World!\n"
          ]
        }
      ]
    },
    {
      "cell_type": "markdown",
      "source": [
        "2.\n"
      ],
      "metadata": {
        "id": "_TSsqJPn4S24"
      }
    },
    {
      "cell_type": "code",
      "source": [
        "name = \"Your Name\"  # Replace with your name\n",
        "age = 30             # Replace with your age\n",
        "\n",
        "print(\"Name:\", name)\n",
        "print(\"Age:\", age)\n"
      ],
      "metadata": {
        "colab": {
          "base_uri": "https://localhost:8080/"
        },
        "id": "SvtxzTId4Z1b",
        "outputId": "c930638a-a9ae-4480-dfd0-9170e32d34dd"
      },
      "execution_count": 5,
      "outputs": [
        {
          "output_type": "stream",
          "name": "stdout",
          "text": [
            "Name: Your Name\n",
            "Age: 30\n"
          ]
        }
      ]
    },
    {
      "cell_type": "markdown",
      "source": [
        "3.\n"
      ],
      "metadata": {
        "id": "-J2isoxn4u9f"
      }
    },
    {
      "cell_type": "markdown",
      "source": [],
      "metadata": {
        "id": "kWVkGSsB4wCS"
      }
    },
    {
      "cell_type": "code",
      "source": [
        "import keyword\n",
        "\n",
        "# Print all Python keywords\n",
        "print(keyword.kwlist)\n"
      ],
      "metadata": {
        "colab": {
          "base_uri": "https://localhost:8080/"
        },
        "id": "N9c6J73s4wRx",
        "outputId": "8672dfc5-3037-4c70-906a-d0c66e195aa5"
      },
      "execution_count": 4,
      "outputs": [
        {
          "output_type": "stream",
          "name": "stdout",
          "text": [
            "['False', 'None', 'True', 'and', 'as', 'assert', 'async', 'await', 'break', 'class', 'continue', 'def', 'del', 'elif', 'else', 'except', 'finally', 'for', 'from', 'global', 'if', 'import', 'in', 'is', 'lambda', 'nonlocal', 'not', 'or', 'pass', 'raise', 'return', 'try', 'while', 'with', 'yield']\n"
          ]
        }
      ]
    },
    {
      "cell_type": "markdown",
      "source": [
        "4."
      ],
      "metadata": {
        "id": "9wWleURZ4-sf"
      }
    },
    {
      "cell_type": "code",
      "source": [
        "import keyword\n",
        "\n",
        "# Get the word from the user\n",
        "word = input(\"Enter a word: \")\n",
        "\n",
        "# Check if the word is a Python keyword\n",
        "if keyword.iskeyword(word):\n",
        "    print(f\"'{word}' is a Python keyword.\")\n",
        "else:\n",
        "    print(f\"'{word}' is not a Python keyword.\")\n"
      ],
      "metadata": {
        "colab": {
          "base_uri": "https://localhost:8080/"
        },
        "id": "Mx4rHX4C5AwX",
        "outputId": "c9b047b8-5b44-4822-9650-7e50c54e749c"
      },
      "execution_count": 6,
      "outputs": [
        {
          "output_type": "stream",
          "name": "stdout",
          "text": [
            "Enter a word: word\n",
            "'word' is not a Python keyword.\n"
          ]
        }
      ]
    },
    {
      "cell_type": "markdown",
      "source": [
        "5."
      ],
      "metadata": {
        "id": "_AQDYwbp5GLI"
      }
    },
    {
      "cell_type": "code",
      "source": [
        "# Creating a list and tuple\n",
        "my_list = [1, 2, 3, 4]\n",
        "my_tuple = (1, 2, 3, 4)\n",
        "\n",
        "# Changing an element in the list (allowed)\n",
        "my_list[1] = 10\n",
        "print(\"List after modification:\", my_list)\n",
        "\n",
        "# Attempting to change an element in the tuple (will raise an error)\n",
        "try:\n",
        "    my_tuple[1] = 10\n",
        "except TypeError as e:\n",
        "    print(\"Error when modifying tuple:\", e)\n"
      ],
      "metadata": {
        "colab": {
          "base_uri": "https://localhost:8080/"
        },
        "id": "Dw-0cT6O5HaO",
        "outputId": "5bd82cd5-c1e8-45d5-b72b-d14802e93415"
      },
      "execution_count": 7,
      "outputs": [
        {
          "output_type": "stream",
          "name": "stdout",
          "text": [
            "List after modification: [1, 10, 3, 4]\n",
            "Error when modifying tuple: 'tuple' object does not support item assignment\n"
          ]
        }
      ]
    },
    {
      "cell_type": "markdown",
      "source": [
        "6."
      ],
      "metadata": {
        "id": "tR5UIG915Ndb"
      }
    },
    {
      "cell_type": "code",
      "source": [
        "def demo_mutable_immutable(lst, tup):\n",
        "    # Modifying the mutable list\n",
        "    lst.append(4)\n",
        "\n",
        "    # Trying to modify the immutable tuple (will not work)\n",
        "    try:\n",
        "        tup[0] = 10  # This will raise an error\n",
        "    except TypeError as e:\n",
        "        print(\"Error when modifying tuple:\", e)\n",
        "\n",
        "    # Printing the results\n",
        "    print(\"List after modification:\", lst)\n",
        "    print(\"Tuple after modification attempt:\", tup)\n",
        "\n",
        "# Create a mutable list and an immutable tuple\n",
        "my_list = [1, 2, 3]\n",
        "my_tuple = (1, 2, 3)\n",
        "\n",
        "# Call\n"
      ],
      "metadata": {
        "id": "Bsq27p5x5Osz"
      },
      "execution_count": 8,
      "outputs": []
    },
    {
      "cell_type": "markdown",
      "source": [
        "7."
      ],
      "metadata": {
        "id": "sD1NmFWW5Tns"
      }
    },
    {
      "cell_type": "code",
      "source": [
        "# Taking user input for two numbers\n",
        "num1 = float(input(\"Enter the first number: \"))\n",
        "num2 = float(input(\"Enter the second number: \"))\n",
        "\n",
        "# Performing arithmetic operations\n",
        "addition = num1 + num2\n",
        "# Taking user input for two numbers\n",
        "num1 = float(input(\"Enter the first number: \"))\n",
        "num2 = float(input(\"Enter the second number: \"))\n",
        "\n",
        "# Performing arithmetic operations\n",
        "addition = num1 + num2\n",
        "subtraction = num1 - num2\n",
        "multiplication = num1 * num2\n",
        "division = num1 / num2 if num2 != 0 else \"Undefined (division by zero)\""
      ],
      "metadata": {
        "colab": {
          "base_uri": "https://localhost:8080/"
        },
        "id": "qLlVh7GU5WwO",
        "outputId": "e7371d04-b98d-4d0f-9a06-9f3843fa1a5d"
      },
      "execution_count": 10,
      "outputs": [
        {
          "name": "stdout",
          "output_type": "stream",
          "text": [
            "Enter the first number: 2\n",
            "Enter the second number: 5\n",
            "Enter the first number: 2\n",
            "Enter the second number: 5\n"
          ]
        }
      ]
    },
    {
      "cell_type": "markdown",
      "source": [
        "8."
      ],
      "metadata": {
        "id": "oDBowaC38oNs"
      }
    },
    {
      "cell_type": "code",
      "source": [
        "# Taking user input for two numbers\n",
        "x = int(input(\"Enter the first number: \"))\n",
        "y = int(input(\"Enter the second number: \"))\n",
        "\n",
        "# Using logical operators\n",
        "if x > 0 and y > 0:\n",
        "    print(\"Both numbers are positive.\")\n",
        "else:\n",
        "    print(\"At least one number is not positive.\")\n",
        "\n",
        "if x > 0 or y > 0:\n",
        "    print(\"At least one of the numbers is positive.\")\n",
        "else:\n",
        "    print(\"Neither number is positive.\")\n",
        "\n",
        "if not (x > 0 and y > 0):\n",
        "    print(\"At least one of the numbers is not positive.\")\n",
        "else:\n",
        "    print(\"Both numbers are positive.\")\n"
      ],
      "metadata": {
        "colab": {
          "base_uri": "https://localhost:8080/"
        },
        "id": "eg7NxHGp8p2M",
        "outputId": "9556969d-b0f1-4fcd-9571-cf6c889906a2"
      },
      "execution_count": 11,
      "outputs": [
        {
          "output_type": "stream",
          "name": "stdout",
          "text": [
            "Enter the first number: 4\n",
            "Enter the second number: 6\n",
            "Both numbers are positive.\n",
            "At least one of the numbers is positive.\n",
            "Both numbers are positive.\n"
          ]
        }
      ]
    },
    {
      "cell_type": "markdown",
      "source": [
        "9."
      ],
      "metadata": {
        "id": "uaKEk8Io8xOM"
      }
    },
    {
      "cell_type": "code",
      "source": [
        "# Taking user input as string\n",
        "user_input = input(\"Enter a value: \")\n",
        "\n",
        "# Converting input to integer, float, and boolean\n",
        "int_value = int(user_input) if user_input.isdigit() else \"Invalid input for integer\"\n",
        "float_value = float(user_input) if user_input.replace('.', '', 1).isdigit() else \"Invalid input for float\"\n",
        "bool_value = user_input.lower() in ['true', '1', 'yes']  # Converting to boolean\n"
      ],
      "metadata": {
        "colab": {
          "base_uri": "https://localhost:8080/"
        },
        "id": "ZD8yfWWx8zg3",
        "outputId": "da7283f4-9de0-4697-b820-47dda37251d0"
      },
      "execution_count": 12,
      "outputs": [
        {
          "name": "stdout",
          "output_type": "stream",
          "text": [
            "Enter a value: 6\n"
          ]
        }
      ]
    },
    {
      "cell_type": "markdown",
      "source": [
        "10."
      ],
      "metadata": {
        "id": "muWK0aAd85xC"
      }
    },
    {
      "cell_type": "code",
      "source": [
        "# List with elements of different types\n",
        "my_list = ['10', '20.5', 'True', '100']\n",
        "\n",
        "# Type casting the elements of the list\n",
        "# List with elements of different types\n",
        "my_list = ['10', '20.5', 'True', '100']\n",
        "\n",
        "# Type casting the elements of the list\n",
        "int_list = [int(x) if x.isdigit() else 0 for x in my_list]  # Convert to integers\n",
        "float_list = [float(x) if x.replace('.', '', 1).isdigit() else 0.0 for x in my_list]  # Convert to floats\n",
        "bool_list = [x.lower() for x in my_list]"
      ],
      "metadata": {
        "id": "qwncPQCk8614"
      },
      "execution_count": 14,
      "outputs": []
    },
    {
      "cell_type": "markdown",
      "source": [
        "11."
      ],
      "metadata": {
        "id": "AuGSUf1N9CBc"
      }
    },
    {
      "cell_type": "code",
      "source": [
        "# Taking user input\n",
        "num = float(input(\"Enter a number: \"))\n",
        "\n",
        "# Checking the number's sign\n",
        "if num > 0:\n",
        "    print(\"The number is positive.\")\n",
        "elif num < 0:\n",
        "    print(\"The number is negative.\")\n",
        "else:\n",
        "    print(\"The number is zero.\")\n"
      ],
      "metadata": {
        "colab": {
          "base_uri": "https://localhost:8080/"
        },
        "id": "U_aPBoQr9Ecc",
        "outputId": "2389f7b2-8cf0-40c6-b1a6-73caadb9e0d0"
      },
      "execution_count": 15,
      "outputs": [
        {
          "output_type": "stream",
          "name": "stdout",
          "text": [
            "Enter a number: 8\n",
            "The number is positive.\n"
          ]
        }
      ]
    },
    {
      "cell_type": "markdown",
      "source": [
        "12."
      ],
      "metadata": {
        "id": "hiUWNXaf_kR2"
      }
    },
    {
      "cell_type": "code",
      "source": [
        "# Using a for loop to print numbers from 1 to 10\n",
        "for i in range(1, 11):\n",
        "    print(i)\n"
      ],
      "metadata": {
        "colab": {
          "base_uri": "https://localhost:8080/"
        },
        "id": "wA_Ng3gp_lkw",
        "outputId": "d6b68cc2-fd2b-4696-ee43-242499d35f71"
      },
      "execution_count": 16,
      "outputs": [
        {
          "output_type": "stream",
          "name": "stdout",
          "text": [
            "1\n",
            "2\n",
            "3\n",
            "4\n",
            "5\n",
            "6\n",
            "7\n",
            "8\n",
            "9\n",
            "10\n"
          ]
        }
      ]
    },
    {
      "cell_type": "markdown",
      "source": [
        "13."
      ],
      "metadata": {
        "id": "7M8CAb7m_uF5"
      }
    },
    {
      "cell_type": "code",
      "source": [
        "# Initialize sum variable\n",
        "sum_even = 0\n",
        "\n",
        "# Loop through numbers from 1 to 50\n",
        "for i in range(1, 51):\n",
        "    if i % 2 == 0:  # Check if the number is even\n",
        "        sum_even += i\n",
        "\n",
        "# Print the result\n",
        "print(\"Sum of all even numbers between 1 and 50:\", sum_even)\n"
      ],
      "metadata": {
        "colab": {
          "base_uri": "https://localhost:8080/"
        },
        "id": "nyk81hZi_vaK",
        "outputId": "9322e9fd-bfa2-4189-a270-d4a05fe52915"
      },
      "execution_count": 17,
      "outputs": [
        {
          "output_type": "stream",
          "name": "stdout",
          "text": [
            "Sum of all even numbers between 1 and 50: 650\n"
          ]
        }
      ]
    },
    {
      "cell_type": "markdown",
      "source": [
        "14."
      ],
      "metadata": {
        "id": "BgoaMXEi_5JB"
      }
    },
    {
      "cell_type": "code",
      "source": [
        "# Taking user input\n",
        "user_input = input(\"Enter a string: \")\n",
        "\n",
        "# Initialize variables\n",
        "reversed_string = \"\"\n",
        "index = len(user_input) - 1\n",
        "\n",
        "# Use a while loop to reverse the string\n",
        "while index >= 0:\n",
        "    reversed_string += user_input[index]\n",
        "    index -= 1\n",
        "\n",
        "# Print the reversed string\n",
        "print(\"Reversed string:\", reversed_string)\n"
      ],
      "metadata": {
        "colab": {
          "base_uri": "https://localhost:8080/"
        },
        "id": "UZM0ZubX_6eo",
        "outputId": "acae3257-b84b-4dae-e6dc-8f78cc0eff3e"
      },
      "execution_count": 18,
      "outputs": [
        {
          "output_type": "stream",
          "name": "stdout",
          "text": [
            "Enter a string: string\n",
            "Reversed string: gnirts\n"
          ]
        }
      ]
    },
    {
      "cell_type": "markdown",
      "source": [
        "15."
      ],
      "metadata": {
        "id": "UjxTDakDACcO"
      }
    },
    {
      "cell_type": "code",
      "source": [
        "# Taking user input\n",
        "num = int(input(\"Enter a number: \"))\n",
        "\n",
        "# Initialize factorial variable\n",
        "factorial = 1\n",
        "\n",
        "# Check if the number is negative, zero or positive\n",
        "if num < 0:\n",
        "    print(\"Factorial does not exist for negative numbers.\")\n",
        "elif num == 0:\n",
        "    print(\"The factorial of 0 is 1.\")\n",
        "else:\n",
        "    # Using while loop to calculate factorial\n",
        "    i = 1\n",
        "    while i <= num:\n",
        "        factorial *= i\n",
        "        i += 1\n",
        "    print(f\"The factorial of {num} is {factorial}.\")\n"
      ],
      "metadata": {
        "colab": {
          "base_uri": "https://localhost:8080/"
        },
        "id": "A14O9Wx6AFm8",
        "outputId": "3a96f863-6657-45df-9ad2-0e67faac0b6a"
      },
      "execution_count": 19,
      "outputs": [
        {
          "output_type": "stream",
          "name": "stdout",
          "text": [
            "Enter a number: 34\n",
            "The factorial of 34 is 295232799039604140847618609643520000000.\n"
          ]
        }
      ]
    },
    {
      "cell_type": "markdown",
      "source": [],
      "metadata": {
        "id": "eu_UXM4T45TJ"
      }
    }
  ]
}